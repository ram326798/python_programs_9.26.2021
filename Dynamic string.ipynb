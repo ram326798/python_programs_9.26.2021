{
 "cells": [
  {
   "cell_type": "code",
   "execution_count": null,
   "id": "4a55274c",
   "metadata": {},
   "outputs": [],
   "source": [
    "person = input (\"Enter Person Name:\")\n",
    "movie_name = input (\"Enter Movie Name:\") \n",
    "theatre_name = input (\"Enter Theatre Name:\")\n",
    "txt = \"{person} went to {movie_name} movie at {theatre_name} theatre\"\n",
    "print(txt.format(person=person, movie_name=movie_name, theatre_name=theatre_name)) "
   ]
  },
  {
   "cell_type": "code",
   "execution_count": 1,
   "id": "f3173d5c",
   "metadata": {},
   "outputs": [
    {
     "name": "stdout",
     "output_type": "stream",
     "text": [
      "Enter Person Name:U\n",
      "Enter Movie Name:L\n",
      "Enter Theatre Name:M\n",
      "U went to L movie at M theatre\n"
     ]
    }
   ],
   "source": [
    "person = input (\"Enter Person Name:\")\n",
    "movie_name = input (\"Enter Movie Name:\") \n",
    "theatre_name = input (\"Enter Theatre Name:\")\n",
    "txt = \"{0} went to {1} movie at {2} theatre\"\n",
    "print(txt.format(person,movie_name, theatre_name)) "
   ]
  }
 ],
 "metadata": {
  "kernelspec": {
   "display_name": "Python 3 (ipykernel)",
   "language": "python",
   "name": "python3"
  },
  "language_info": {
   "codemirror_mode": {
    "name": "ipython",
    "version": 3
   },
   "file_extension": ".py",
   "mimetype": "text/x-python",
   "name": "python",
   "nbconvert_exporter": "python",
   "pygments_lexer": "ipython3",
   "version": "3.8.3"
  }
 },
 "nbformat": 4,
 "nbformat_minor": 5
}
