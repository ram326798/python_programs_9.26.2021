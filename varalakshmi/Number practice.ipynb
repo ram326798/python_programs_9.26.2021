{
 "cells": [
  {
   "cell_type": "code",
   "execution_count": null,
   "id": "1e076806",
   "metadata": {},
   "outputs": [],
   "source": [
    "number = int(input(\"enter a number:\"))\n",
    "if(number>100):\n",
    "    print (\"Given Number is Greaterthan 100:\", number) \n",
    "elif(number==100):\n",
    "    print (\"Given Number is Equal to 100:\", number) \n",
    "else:\n",
    "    print (\"Given Number is Lessthan 100:\", number) "
   ]
  }
 ],
 "metadata": {
  "kernelspec": {
   "display_name": "Python 3 (ipykernel)",
   "language": "python",
   "name": "python3"
  },
  "language_info": {
   "codemirror_mode": {
    "name": "ipython",
    "version": 3
   },
   "file_extension": ".py",
   "mimetype": "text/x-python",
   "name": "python",
   "nbconvert_exporter": "python",
   "pygments_lexer": "ipython3",
   "version": "3.8.3"
  }
 },
 "nbformat": 4,
 "nbformat_minor": 5
}
