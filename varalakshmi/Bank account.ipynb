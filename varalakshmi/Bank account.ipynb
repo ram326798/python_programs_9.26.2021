{
 "cells": [
  {
   "cell_type": "code",
   "execution_count": 2,
   "id": "08f0e5f5",
   "metadata": {},
   "outputs": [
    {
     "name": "stdout",
     "output_type": "stream",
     "text": [
      "present balance0\n",
      " enter the amount created0\n",
      " please credit a valid amount \n"
     ]
    }
   ],
   "source": [
    "balance = float (input ( \"present balance\"))\n",
    "amount = float (input (\" enter the amount created\")) \n",
    "credited_amount = amount+balance\n",
    "if ( amount> 0) :\n",
    "    print(\"Total amount \", credited_amount) \n",
    "else:\n",
    "    print (\" please credit a valid amount \") "
   ]
  }
 ],
 "metadata": {
  "kernelspec": {
   "display_name": "Python 3 (ipykernel)",
   "language": "python",
   "name": "python3"
  },
  "language_info": {
   "codemirror_mode": {
    "name": "ipython",
    "version": 3
   },
   "file_extension": ".py",
   "mimetype": "text/x-python",
   "name": "python",
   "nbconvert_exporter": "python",
   "pygments_lexer": "ipython3",
   "version": "3.8.3"
  }
 },
 "nbformat": 4,
 "nbformat_minor": 5
}
